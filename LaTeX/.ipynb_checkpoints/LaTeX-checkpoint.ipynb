{
 "cells": [
  {
   "cell_type": "markdown",
   "id": "8de7ced0-f50c-4f16-abe5-8d61f9d63c11",
   "metadata": {},
   "source": [
    "# LaTeX Markdown for Equations Interpreted by MathJax"
   ]
  },
  {
   "cell_type": "markdown",
   "id": "5d770880-08e6-49f7-81c4-da3e95fc2533",
   "metadata": {},
   "source": [
    "### Multiplcation\n",
    "\n",
    "<p style=\"text-align:center;\">\\cdot or \\times<br>\n",
    "e.g. a\\cdot b or a\\times bx</p>\n",
    "\n",
    "$$a\\cdot b\\:or\\:a\\times b$$"
   ]
  },
  {
   "cell_type": "markdown",
   "id": "e8c73e42-0acd-4930-b0d1-e0f970ef7956",
   "metadata": {},
   "source": [
    "### Fractions\n",
    "<p style=\"text-align:center;\">\\frac{}{}/n<br>\n",
    "e.g. P(A)=\\frac{n(A)}{n(B)}</p>\n",
    "\n",
    "$$P(A)=\\frac{n(A)}{n(B)}$$"
   ]
  },
  {
   "cell_type": "markdown",
   "id": "2aae6cdd-c228-40a3-b55a-c5927054378e",
   "metadata": {},
   "source": [
    "### Square Root\n",
    "\n",
    "<p style=\"text-align:center;\">\\sqrt{}<br>\n",
    "e.g. \\sqrt{x+y}</p>\n",
    "\n",
    "$$\\sqrt{x+y}$$"
   ]
  },
  {
   "cell_type": "markdown",
   "id": "118382b7-d583-41ea-b188-0403acecdf51",
   "metadata": {},
   "source": [
    "### Subscript and Superscript\n",
    "\n",
    "<p style=\"text-align:center;\">u_n or u^n<br>\n",
    "e.g. u_n=u_1r^{n-1}</p>\n",
    "\n",
    "$$u_n=u_1r^{n-1}$$"
   ]
  },
  {
   "cell_type": "markdown",
   "id": "159aec6d-7ab9-4f40-86dd-3298cb527724",
   "metadata": {},
   "source": [
    "### Greek Letters\n",
    "\n",
    "<p style=\"text-align:center;\">\\alpha \\beta \\pi \\gamma<br>\n",
    "\n",
    "$$\\alpha\\;\\beta\\;\\pi\\;\\gamma$$"
   ]
  },
  {
   "cell_type": "markdown",
   "id": "30ce5691-1b47-4496-9349-a34d429ab93e",
   "metadata": {},
   "source": [
    "### Text\n",
    "\n",
    "<p style=\"text-align:center;\">\\text{}<br>\n",
    "e.g. A = \\pi r^2\\text{,where r is the radius}</p>\n",
    "\n",
    "$$A = \\pi r^2\\text{,where r is the radius}$$"
   ]
  },
  {
   "cell_type": "markdown",
   "id": "d6d9cb88-82f7-4771-ad5f-3b79a03660cc",
   "metadata": {},
   "source": [
    "### Sigma\n",
    "\n",
    "<p style=\"text-align:center;\">\\sum<br>\n",
    "e.g. n=\\sum \\limits _{i=1} ^{\\infty} f_i</p>\n",
    "\n",
    "$$n=\\sum \\limits _{i=1} ^{\\infty} f_i$$"
   ]
  },
  {
   "cell_type": "markdown",
   "id": "32f8890d-b3c3-4f1e-8fdb-cd63875787e1",
   "metadata": {},
   "source": [
    "### Product\n",
    "\n",
    "<p style=\"text-align:center;\">\\prod<br>\n",
    "e.g. \\prod_{i=1}^{n} {a_i}</p>\n",
    "\n",
    "$$\\prod_{i=1}^{n} {a_i}$$"
   ]
  },
  {
   "cell_type": "markdown",
   "id": "96f61bbd-75f8-4bae-a9a9-7753763e2549",
   "metadata": {},
   "source": [
    "### Log and Ln\n",
    "\n",
    "<p style=\"text-align:center;\">\\log \\ln</p>\n",
    "\n",
    "$$\\log\\:\\ln$$"
   ]
  },
  {
   "cell_type": "markdown",
   "id": "3287389b-5190-49ca-ba95-894d52700e2b",
   "metadata": {},
   "source": [
    "### Limit\n",
    "\n",
    "<p style=\"text-align:center;\">\\lim<br>\n",
    "e.g. \\lim\\limits_{x\\to\\infty}</p>\n",
    "\n",
    "$$\\lim\\limits_{x\\to\\infty}$$"
   ]
  },
  {
   "cell_type": "markdown",
   "id": "77bb3e9d-1d11-462d-9ba4-23a49b6f51e4",
   "metadata": {},
   "source": [
    "### Integral\n",
    "\n",
    "<p style=\"text-align:center;\">\\int<br>\n",
    "e.g. \\int\\limits_{a}^{b} x^2 dx</p>\n",
    "\n",
    "$$\\int\\limits_{a}^{b} x^2 dx$$"
   ]
  },
  {
   "cell_type": "markdown",
   "id": "29326ea0-4447-4789-9e30-8311a802d369",
   "metadata": {},
   "source": [
    "### Trigonometry\n",
    "\n",
    "<p style=\"text-align:center;\">\\sin()<br>\n",
    "e.g. \\sin(x+y)</p>\n",
    "\n",
    "$$\\sin(x+y)$$"
   ]
  },
  {
   "cell_type": "markdown",
   "id": "656da9db-1232-4d58-b03a-58913044dd60",
   "metadata": {},
   "source": [
    "### Comparison\n",
    "\n",
    "<p style=\"text-align:center;\">\\leq<br>\n",
    "e.g. \\leq \\geq \\approx \\neq</p>\n",
    "\n",
    "$$\\leq\\:\\geq\\:\\approx\\:\\neq$$"
   ]
  },
  {
   "cell_type": "markdown",
   "id": "26b84c86-6a90-45d6-b3f4-2e18aea51a2e",
   "metadata": {},
   "source": [
    "### Overline\n",
    "\n",
    "<p style=\"text-align:center;\">\\overline{}<br>\n",
    "e.g. \\overline{x}</p>\n",
    "\n",
    "$$\\overline{x}$$"
   ]
  },
  {
   "cell_type": "markdown",
   "id": "ec69dcc5-d4a0-4e7b-bbe1-8cd924c77a45",
   "metadata": {},
   "source": [
    "### Estimate\n",
    "\n",
    "<p style=\"text-align:center;\">\\hat{}<br>\n",
    "e.g. \\hat{x}</p>\n",
    "\n",
    "$$\\hat{x}$$"
   ]
  },
  {
   "cell_type": "markdown",
   "id": "bd048673-bbdb-4505-ba28-74e149fb87cc",
   "metadata": {},
   "source": [
    "### Tilde ~\n",
    "\n",
    "<p style=\"text-align:center;\">\\sim<br>\n",
    "e.g. X\\sim N(\\mu, \\sigma^2)</p>\n",
    "\n",
    "$$X\\sim N(\\mu, \\sigma^2)$$"
   ]
  },
  {
   "cell_type": "markdown",
   "id": "7b694114-8880-4d2c-a729-6c3f4e2f4ac0",
   "metadata": {},
   "source": [
    "### Number Sets\n",
    "\n",
    "<p style=\"text-align:center;\">\\mathbb{}<br>\n",
    "e.g. \\mathbb{I, R, Q, N, Z}</p>\n",
    "\n",
    "$$\\mathbb{I, R, Q, N, Z}$$"
   ]
  },
  {
   "cell_type": "markdown",
   "id": "37a5c351-5cb0-4fd8-9693-b3fc63047b11",
   "metadata": {},
   "source": [
    "### Union\n",
    "\n",
    "<p style=\"text-align:center;\">\\cup</p>\n",
    "\n",
    "$$\\cup$$"
   ]
  },
  {
   "cell_type": "markdown",
   "id": "73a562a0-6681-4373-adda-67dfdeeae518",
   "metadata": {},
   "source": [
    "### Intersection\n",
    "\n",
    "<p style=\"text-align:center;\">\\cap</p>\n",
    "\n",
    "$$\\cap$$"
   ]
  },
  {
   "cell_type": "markdown",
   "id": "c39d37db-82da-4ade-96f2-99fcd7d525a5",
   "metadata": {},
   "source": [
    "### Union of Many\n",
    "\n",
    "<p style=\"text-align:center;\">\\bigcup<br>\n",
    "e.g. \\bigcup_{i=1}^{n}{E_i}</p>\n",
    "\n",
    "$$\\bigcup_{i=1}^{n}{E_i}$$"
   ]
  },
  {
   "cell_type": "markdown",
   "id": "e433fbf9-c94c-4ed9-921f-a3915f7b02fb",
   "metadata": {},
   "source": [
    "### Intersection of Many\n",
    "\n",
    "<p style=\"text-align:center;\">\\bigcap<br>\n",
    "e.g. \\bigcap_{i=1}^{n}{E_i}</p>\n",
    "\n",
    "$$\\bigcap_{i=1}^{n}{E_i}$$"
   ]
  },
  {
   "cell_type": "markdown",
   "id": "3ce12db3-046d-4587-8123-6e9c299b439f",
   "metadata": {},
   "source": [
    "### Arrow\n",
    "\n",
    "<p style=\"text-align:center;\">\\to</p>\n",
    "\n",
    "$$\\to$$"
   ]
  },
  {
   "cell_type": "markdown",
   "id": "0dffb2a6-6ae9-4dcd-8331-10a95bf7b63d",
   "metadata": {},
   "source": [
    "### Vector/Matrix\n",
    "\n",
    "<p style=\"text-align:center;\">\\ begin{bmatrix},  \\ end{bmatrix}<br>\n",
    "e.g. \\ begin{bmatrix} a & b \\\\\\ c & d \\ end{bmatrix}</p>\n",
    "\n",
    "$$\\begin{bmatrix} a & b \\\\ c & d \\end{bmatrix}$$"
   ]
  },
  {
   "cell_type": "markdown",
   "id": "1ed49159-e6dd-4258-87ea-764e3cbe7d74",
   "metadata": {},
   "source": [
    "### Creating new commands\n",
    "\n",
    "<p style=\"text-align:center;\">\\newcommand{\\f} {\\frac}<br>\n",
    "\\frac is cast into \\f</p>"
   ]
  },
  {
   "cell_type": "markdown",
   "id": "2f5cbe00-7838-4542-801e-6bfdf9ae50f8",
   "metadata": {},
   "source": [
    "For document formatting in a .tex LaTeX document, see: [Learn LaTeX in 30 minutes](https://www.overleaf.com/learn/latex/Learn_LaTeX_in_30_minutes#What_is_LaTeX?)"
   ]
  }
 ],
 "metadata": {
  "kernelspec": {
   "display_name": "Python 3 (ipykernel)",
   "language": "python",
   "name": "python3"
  },
  "language_info": {
   "codemirror_mode": {
    "name": "ipython",
    "version": 3
   },
   "file_extension": ".py",
   "mimetype": "text/x-python",
   "name": "python",
   "nbconvert_exporter": "python",
   "pygments_lexer": "ipython3",
   "version": "3.10.6"
  }
 },
 "nbformat": 4,
 "nbformat_minor": 5
}
