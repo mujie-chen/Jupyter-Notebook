{
 "cells": [
  {
   "cell_type": "markdown",
   "id": "154b73c3-9416-41e2-9cfe-cd18203f2262",
   "metadata": {},
   "source": [
    "# Observational Studies\n",
    "<b>2x2 Contingency Table</b>\n",
    "|              | Disease<br> (or Outcome) | Disease-free |\n",
    "|--------------|---------|--------------|\n",
    "| Exposed      | a       | c            |\n",
    "| Unexposed    | b       | d            |"
   ]
  },
  {
   "cell_type": "markdown",
   "id": "a3a7f97e-c99b-4f5a-8d9c-6c51c95419d6",
   "metadata": {},
   "source": [
    "## Odds Ratio using Case-Control Incidence\n",
    "\n",
    "This is the relative chance of developing the disease by being exposed to a risk factor\n",
    "\n",
    "Calculation:<br>\n",
    "Disease Odds in the Exposed Group $\\frac{a}{c}$ divided by Disease Odds in the Unexposed Group $\\frac{b}{d}$\n",
    "\n",
    "$\\frac{a/c}{b/d}$ or $\\frac{a*d}{b*c}$ utilising the \"Cross Product Ratio\" for eliminating fractions<br>\n",
    "Retrospective observational studies produce OR with no predictive power"
   ]
  },
  {
   "cell_type": "code",
   "execution_count": 1,
   "id": "2b58b7de-3f2c-449d-94c8-fe782a03d985",
   "metadata": {
    "scrolled": true
   },
   "outputs": [
    {
     "name": "stdout",
     "output_type": "stream",
     "text": [
      "\n",
      "  ___  ____  ____  ____  ____ ®\n",
      " /__    /   ____/   /   ____/      StataNow 18.5\n",
      "___/   /   /___/   /   /___/       SE—Standard Edition\n",
      "\n",
      " Statistics and Data Science       Copyright 1985-2023 StataCorp LLC\n",
      "                                   StataCorp\n",
      "                                   4905 Lakeway Drive\n",
      "                                   College Station, Texas 77845 USA\n",
      "                                   800-782-8272        https://www.stata.com\n",
      "                                   979-696-4600        service@stata.com\n",
      "\n",
      "Stata license: Unlimited-user network, expiring  9 Sep 2025\n",
      "Serial number: 501809305305\n",
      "  Licensed to: Mujie\n",
      "               \n",
      "\n",
      "Notes:\n",
      "      1. Unicode is supported; see help unicode_advice.\n",
      "      2. Maximum number of variables is set to 5,000 but can be increased;\n",
      "          see help set_maxvar.\n"
     ]
    }
   ],
   "source": [
    "import os\n",
    "os.chdir(\"/Applications/Stata/utilities\")\n",
    "from pystata import config\n",
    "config.init(\"se\")"
   ]
  },
  {
   "cell_type": "markdown",
   "id": "496f209c-cf94-4f4d-ad77-c2e64b8afcd0",
   "metadata": {},
   "source": [
    "Suppose\n",
    "|                 | Stroke  | No Stroke |\n",
    "|-----------------|---------|--------------|\n",
    "| With Aura       | 23      | 27           |\n",
    "| Without Aura    | 51      | 69           |"
   ]
  },
  {
   "cell_type": "code",
   "execution_count": 2,
   "id": "4bdbf8ad-446d-44e6-879b-96ed5d031725",
   "metadata": {},
   "outputs": [
    {
     "name": "stdout",
     "output_type": "stream",
     "text": [
      "\n",
      ". \n",
      ". cci 23 51 27 69\n",
      "                                                         Proportion\n",
      "                 |   Exposed   Unexposed  |      Total      exposed\n",
      "-----------------+------------------------+------------------------\n",
      "           Cases |        23          51  |         74       0.3108\n",
      "        Controls |        27          69  |         96       0.2812\n",
      "-----------------+------------------------+------------------------\n",
      "           Total |        50         120  |        170       0.2941\n",
      "                 |                        |\n",
      "                 |      Point estimate    |    [95% conf. interval]\n",
      "                 |------------------------+------------------------\n",
      "      Odds ratio |         1.152505       |    .5609558    2.356181 (exact)\n",
      " Attr. frac. ex. |         .1323251       |   -.7826715    .5755843 (exact)\n",
      " Attr. frac. pop |         .0411281       |\n",
      "                 +-------------------------------------------------\n",
      "                               chi2(1) =     0.18  Pr>chi2 = 0.6749\n",
      "\n",
      ". \n"
     ]
    }
   ],
   "source": [
    "%%stata\n",
    "\n",
    "cci 23 51 27 69"
   ]
  },
  {
   "cell_type": "markdown",
   "id": "bc0e7c8b-f5d1-4fc6-8582-d2808e357b51",
   "metadata": {},
   "source": [
    "Key outputs are OR and 95% CI:<br>\n",
    "An OR of 1.15 indicates that individuals with aura are 15% more likely to experience a stroke than individuals without aura<br>\n",
    "However, the 95% CI ranges from 0.56 to 2.35, which includes 1. We are 95% confident that the true OR falls within this range, and the long-run average OR falls within the CI 95% of the time. Therefore, there is no statistical difference in OR of getting a stroke between those with aura and those without"
   ]
  },
  {
   "cell_type": "markdown",
   "id": "1f4233da-9e97-4a9d-a1a1-a6a07248138d",
   "metadata": {},
   "source": [
    "## Risk Ratio using Case Sample Incidence\n",
    "This is the relative risk of developing a disease by being exposed to a risk factor\n",
    "\n",
    "Calculation:<br>Disease Risk in the Exposed Group $\\frac{a}{a+c}$ divided by Disease Risk in the Unexposed Group $\\frac{b}{b+d}$\n",
    "\n",
    "$\\frac{\\frac{a}{a+c}}{\\frac{b}{b+d}}$\n",
    "\n",
    "Prospective observational studies produce RR with predictive power"
   ]
  },
  {
   "cell_type": "markdown",
   "id": "dd1e4670-00f7-4f8c-9d31-17c37ed39340",
   "metadata": {},
   "source": [
    "Suppose\n",
    "|                 | Dementia  | No Dementia |\n",
    "|-----------------|---------|--------------|\n",
    "| Stroke       | 18      | 15           |\n",
    "| No Stroke    | 45      | 140           |"
   ]
  },
  {
   "cell_type": "code",
   "execution_count": 3,
   "id": "d45a681f-db21-4b5c-9d62-8b29c53037e7",
   "metadata": {},
   "outputs": [
    {
     "name": "stdout",
     "output_type": "stream",
     "text": [
      "\n",
      ". \n",
      ". csi 18 15 45 140\n",
      "\n",
      "                 |   Exposed   Unexposed  |      Total\n",
      "-----------------+------------------------+-----------\n",
      "           Cases |        18          15  |         33\n",
      "        Noncases |        45         140  |        185\n",
      "-----------------+------------------------+-----------\n",
      "           Total |        63         155  |        218\n",
      "                 |                        |\n",
      "            Risk |  .2857143    .0967742  |   .1513761\n",
      "                 |                        |\n",
      "                 |      Point estimate    |    [95% conf. interval]\n",
      "                 |------------------------+------------------------\n",
      " Risk difference |         .1889401       |     .068067    .3098131 \n",
      "      Risk ratio |         2.952381       |    1.589047    5.485397 \n",
      " Attr. frac. ex. |         .6612903       |    .3706919    .8176978 \n",
      " Attr. frac. pop |         .3607038       |\n",
      "                 +-------------------------------------------------\n",
      "                               chi2(1) =    12.45  Pr>chi2 = 0.0004\n",
      "\n",
      ". \n"
     ]
    }
   ],
   "source": [
    "%%stata\n",
    "\n",
    "csi 18 15 45 140"
   ]
  },
  {
   "cell_type": "markdown",
   "id": "2889f986-eea8-4fb6-a6a1-a9509f8594d9",
   "metadata": {},
   "source": [
    "Key outputs are RR and 95% CI:<br>\n",
    "An RR of 2.95 indicates that individuals with stroke are 195% more likely to develop dementia than individuals without stroke<br>\n",
    "The 95% CI ranges from 1.59 to 5.49, which excludes 1. We are 95% confident that the true OR falls within this range; the long-run average falls within the CI 95% of the time. Therefore, the difference is statistically significant; we can reject the $H_0$ that there is no difference in risk of developing dementia between those with stroke and those without.\n",
    "\n",
    "Not only is this result statistically significant, this risk factor is also <u>clinically significant</u> since those with stroke are 3 times more likely to develop dementia\n",
    "\n",
    "> If the disease prevalence is low i.e. disease is rare, the OR would be similar to the RR"
   ]
  },
  {
   "cell_type": "markdown",
   "id": "177d8c00-5238-47cf-a03f-4bee29711f5a",
   "metadata": {},
   "source": [
    "## Meta-Analysis: See R (for Meta-Analysis)"
   ]
  }
 ],
 "metadata": {
  "kernelspec": {
   "display_name": "Python 3 (ipykernel)",
   "language": "python",
   "name": "python3"
  },
  "language_info": {
   "codemirror_mode": {
    "name": "ipython",
    "version": 3
   },
   "file_extension": ".py",
   "mimetype": "text/x-python",
   "name": "python",
   "nbconvert_exporter": "python",
   "pygments_lexer": "ipython3",
   "version": "3.10.6"
  }
 },
 "nbformat": 4,
 "nbformat_minor": 5
}
