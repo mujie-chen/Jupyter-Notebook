{
 "cells": [
  {
   "cell_type": "markdown",
   "id": "703baad3-9bbe-4663-bedb-6b89b5b234c6",
   "metadata": {},
   "source": [
    "# Navigation\n",
    "\n",
    "Open STATA to its landing page"
   ]
  },
  {
   "cell_type": "code",
   "execution_count": 1,
   "id": "3a77c6c5-31f1-4c6f-91bb-8afe3f2279c6",
   "metadata": {},
   "outputs": [
    {
     "name": "stdout",
     "output_type": "stream",
     "text": [
      "\n",
      "  ___  ____  ____  ____  ____ ®\n",
      " /__    /   ____/   /   ____/      StataNow 18.5\n",
      "___/   /   /___/   /   /___/       SE—Standard Edition\n",
      "\n",
      " Statistics and Data Science       Copyright 1985-2023 StataCorp LLC\n",
      "                                   StataCorp\n",
      "                                   4905 Lakeway Drive\n",
      "                                   College Station, Texas 77845 USA\n",
      "                                   800-782-8272        https://www.stata.com\n",
      "                                   979-696-4600        service@stata.com\n",
      "\n",
      "Stata license: Unlimited-user network, expiring  9 Sep 2025\n",
      "Serial number: 501809305305\n",
      "  Licensed to: Mujie\n",
      "               \n",
      "\n",
      "Notes:\n",
      "      1. Unicode is supported; see help unicode_advice.\n",
      "      2. Maximum number of variables is set to 5,000 but can be increased;\n",
      "          see help set_maxvar.\n"
     ]
    }
   ],
   "source": [
    "import os\n",
    "os.chdir(\"/Applications/Stata/utilities\")\n",
    "from pystata import config\n",
    "config.init(\"se\")"
   ]
  },
  {
   "cell_type": "markdown",
   "id": "0fcdb6f8-eaf7-4918-ac19-39f1790766e7",
   "metadata": {},
   "source": [
    "## Calculations without a dataset\n",
    "STATA supports simple arithmetic"
   ]
  },
  {
   "cell_type": "code",
   "execution_count": 2,
   "id": "a963228d-1900-4c0c-9326-f9105d6b154f",
   "metadata": {},
   "outputs": [
    {
     "name": "stdout",
     "output_type": "stream",
     "text": [
      "\n",
      ". di 5 * 2\n",
      "10\n",
      "\n",
      ". di 10 / 2\n",
      "5\n",
      "\n",
      ". \n"
     ]
    }
   ],
   "source": [
    "%%stata\n",
    "di 5 * 2\n",
    "di 10 / 2"
   ]
  },
  {
   "cell_type": "markdown",
   "id": "13a2fc67-e5da-4b11-a798-570c911280b7",
   "metadata": {},
   "source": [
    "## Opening a .dta dataset\n",
    "\n",
    "Open your own .dta or csv file in STATA using \"use FILE.dta\"<br>\n",
    "STATA also contains built-in and online datasets using \"sysuse FILE.dta\" or \"webuse FILE.dta\" respectively"
   ]
  },
  {
   "cell_type": "code",
   "execution_count": 3,
   "id": "5fec8c5b-6b06-4cc6-a5a2-04c23008fbc0",
   "metadata": {},
   "outputs": [
    {
     "name": "stdout",
     "output_type": "stream",
     "text": [
      "\n",
      ". sysuse auto, clear\n",
      "(1978 automobile data)\n",
      "\n",
      ". sum mpg\n",
      "\n",
      "    Variable |        Obs        Mean    Std. dev.       Min        Max\n",
      "-------------+---------------------------------------------------------\n",
      "         mpg |         74     21.2973    5.785503         12         41\n",
      "\n",
      ". \n"
     ]
    }
   ],
   "source": [
    "%%stata\n",
    "sysuse auto, clear\n",
    "sum mpg"
   ]
  },
  {
   "cell_type": "code",
   "execution_count": 4,
   "id": "da3394d7-244f-44c0-bca5-cd1d65847251",
   "metadata": {},
   "outputs": [
    {
     "name": "stdout",
     "output_type": "stream",
     "text": [
      "   id   bwt  gest  mat_age  cigs\n",
      "0   1  2100    32       41     0\n",
      "1   2  3600    33       15     0\n",
      "2   3  2360    33       18     0\n",
      "3   4  2466    33       16     0\n",
      "4   5  3840    34       28     0\n"
     ]
    },
    {
     "data": {
      "text/html": [
       "<div>\n",
       "<style scoped>\n",
       "    .dataframe tbody tr th:only-of-type {\n",
       "        vertical-align: middle;\n",
       "    }\n",
       "\n",
       "    .dataframe tbody tr th {\n",
       "        vertical-align: top;\n",
       "    }\n",
       "\n",
       "    .dataframe thead th {\n",
       "        text-align: right;\n",
       "    }\n",
       "</style>\n",
       "<table border=\"1\" class=\"dataframe\">\n",
       "  <thead>\n",
       "    <tr style=\"text-align: right;\">\n",
       "      <th></th>\n",
       "      <th>sampl</th>\n",
       "      <th>strata</th>\n",
       "      <th>psu</th>\n",
       "      <th>region</th>\n",
       "      <th>smsa</th>\n",
       "      <th>location</th>\n",
       "      <th>houssiz</th>\n",
       "      <th>sex</th>\n",
       "      <th>race</th>\n",
       "      <th>age</th>\n",
       "      <th>...</th>\n",
       "      <th>region4</th>\n",
       "      <th>smsa1</th>\n",
       "      <th>smsa2</th>\n",
       "      <th>smsa3</th>\n",
       "      <th>rural</th>\n",
       "      <th>loglead</th>\n",
       "      <th>agegrp</th>\n",
       "      <th>highlead</th>\n",
       "      <th>bmi</th>\n",
       "      <th>highbp</th>\n",
       "    </tr>\n",
       "  </thead>\n",
       "  <tbody>\n",
       "    <tr>\n",
       "      <th>0</th>\n",
       "      <td>1400</td>\n",
       "      <td>1</td>\n",
       "      <td>1</td>\n",
       "      <td>S</td>\n",
       "      <td>2</td>\n",
       "      <td>1</td>\n",
       "      <td>4</td>\n",
       "      <td>Male</td>\n",
       "      <td>White</td>\n",
       "      <td>54</td>\n",
       "      <td>...</td>\n",
       "      <td>0</td>\n",
       "      <td>0</td>\n",
       "      <td>1</td>\n",
       "      <td>0</td>\n",
       "      <td>0</td>\n",
       "      <td>NaN</td>\n",
       "      <td>50-59</td>\n",
       "      <td>NaN</td>\n",
       "      <td>20.495686</td>\n",
       "      <td>0</td>\n",
       "    </tr>\n",
       "    <tr>\n",
       "      <th>1</th>\n",
       "      <td>1401</td>\n",
       "      <td>1</td>\n",
       "      <td>1</td>\n",
       "      <td>S</td>\n",
       "      <td>2</td>\n",
       "      <td>1</td>\n",
       "      <td>6</td>\n",
       "      <td>Female</td>\n",
       "      <td>White</td>\n",
       "      <td>41</td>\n",
       "      <td>...</td>\n",
       "      <td>0</td>\n",
       "      <td>0</td>\n",
       "      <td>1</td>\n",
       "      <td>0</td>\n",
       "      <td>0</td>\n",
       "      <td>2.564949</td>\n",
       "      <td>40-49</td>\n",
       "      <td>lead&lt;25</td>\n",
       "      <td>21.022337</td>\n",
       "      <td>0</td>\n",
       "    </tr>\n",
       "    <tr>\n",
       "      <th>2</th>\n",
       "      <td>1402</td>\n",
       "      <td>1</td>\n",
       "      <td>1</td>\n",
       "      <td>S</td>\n",
       "      <td>1</td>\n",
       "      <td>1</td>\n",
       "      <td>6</td>\n",
       "      <td>Female</td>\n",
       "      <td>Other</td>\n",
       "      <td>21</td>\n",
       "      <td>...</td>\n",
       "      <td>0</td>\n",
       "      <td>1</td>\n",
       "      <td>0</td>\n",
       "      <td>0</td>\n",
       "      <td>0</td>\n",
       "      <td>NaN</td>\n",
       "      <td>20-29</td>\n",
       "      <td>NaN</td>\n",
       "      <td>24.973860</td>\n",
       "      <td>0</td>\n",
       "    </tr>\n",
       "    <tr>\n",
       "      <th>3</th>\n",
       "      <td>1404</td>\n",
       "      <td>1</td>\n",
       "      <td>1</td>\n",
       "      <td>S</td>\n",
       "      <td>2</td>\n",
       "      <td>1</td>\n",
       "      <td>9</td>\n",
       "      <td>Female</td>\n",
       "      <td>White</td>\n",
       "      <td>63</td>\n",
       "      <td>...</td>\n",
       "      <td>0</td>\n",
       "      <td>0</td>\n",
       "      <td>1</td>\n",
       "      <td>0</td>\n",
       "      <td>0</td>\n",
       "      <td>NaN</td>\n",
       "      <td>60-69</td>\n",
       "      <td>NaN</td>\n",
       "      <td>35.728722</td>\n",
       "      <td>1</td>\n",
       "    </tr>\n",
       "    <tr>\n",
       "      <th>4</th>\n",
       "      <td>1405</td>\n",
       "      <td>1</td>\n",
       "      <td>1</td>\n",
       "      <td>S</td>\n",
       "      <td>1</td>\n",
       "      <td>1</td>\n",
       "      <td>3</td>\n",
       "      <td>Female</td>\n",
       "      <td>White</td>\n",
       "      <td>64</td>\n",
       "      <td>...</td>\n",
       "      <td>0</td>\n",
       "      <td>1</td>\n",
       "      <td>0</td>\n",
       "      <td>0</td>\n",
       "      <td>0</td>\n",
       "      <td>2.995732</td>\n",
       "      <td>60-69</td>\n",
       "      <td>lead&lt;25</td>\n",
       "      <td>27.923803</td>\n",
       "      <td>0</td>\n",
       "    </tr>\n",
       "    <tr>\n",
       "      <th>...</th>\n",
       "      <td>...</td>\n",
       "      <td>...</td>\n",
       "      <td>...</td>\n",
       "      <td>...</td>\n",
       "      <td>...</td>\n",
       "      <td>...</td>\n",
       "      <td>...</td>\n",
       "      <td>...</td>\n",
       "      <td>...</td>\n",
       "      <td>...</td>\n",
       "      <td>...</td>\n",
       "      <td>...</td>\n",
       "      <td>...</td>\n",
       "      <td>...</td>\n",
       "      <td>...</td>\n",
       "      <td>...</td>\n",
       "      <td>...</td>\n",
       "      <td>...</td>\n",
       "      <td>...</td>\n",
       "      <td>...</td>\n",
       "      <td>...</td>\n",
       "    </tr>\n",
       "    <tr>\n",
       "      <th>10346</th>\n",
       "      <td>48760</td>\n",
       "      <td>32</td>\n",
       "      <td>2</td>\n",
       "      <td>MW</td>\n",
       "      <td>4</td>\n",
       "      <td>48</td>\n",
       "      <td>5</td>\n",
       "      <td>Female</td>\n",
       "      <td>White</td>\n",
       "      <td>35</td>\n",
       "      <td>...</td>\n",
       "      <td>0</td>\n",
       "      <td>0</td>\n",
       "      <td>0</td>\n",
       "      <td>1</td>\n",
       "      <td>1</td>\n",
       "      <td>NaN</td>\n",
       "      <td>30-39</td>\n",
       "      <td>NaN</td>\n",
       "      <td>20.355173</td>\n",
       "      <td>0</td>\n",
       "    </tr>\n",
       "    <tr>\n",
       "      <th>10347</th>\n",
       "      <td>48763</td>\n",
       "      <td>32</td>\n",
       "      <td>2</td>\n",
       "      <td>MW</td>\n",
       "      <td>4</td>\n",
       "      <td>48</td>\n",
       "      <td>2</td>\n",
       "      <td>Female</td>\n",
       "      <td>White</td>\n",
       "      <td>33</td>\n",
       "      <td>...</td>\n",
       "      <td>0</td>\n",
       "      <td>0</td>\n",
       "      <td>0</td>\n",
       "      <td>1</td>\n",
       "      <td>1</td>\n",
       "      <td>1.945910</td>\n",
       "      <td>30-39</td>\n",
       "      <td>lead&lt;25</td>\n",
       "      <td>41.645557</td>\n",
       "      <td>1</td>\n",
       "    </tr>\n",
       "    <tr>\n",
       "      <th>10348</th>\n",
       "      <td>48764</td>\n",
       "      <td>32</td>\n",
       "      <td>2</td>\n",
       "      <td>MW</td>\n",
       "      <td>4</td>\n",
       "      <td>48</td>\n",
       "      <td>1</td>\n",
       "      <td>Female</td>\n",
       "      <td>White</td>\n",
       "      <td>60</td>\n",
       "      <td>...</td>\n",
       "      <td>0</td>\n",
       "      <td>0</td>\n",
       "      <td>0</td>\n",
       "      <td>1</td>\n",
       "      <td>0</td>\n",
       "      <td>NaN</td>\n",
       "      <td>60-69</td>\n",
       "      <td>NaN</td>\n",
       "      <td>35.626114</td>\n",
       "      <td>0</td>\n",
       "    </tr>\n",
       "    <tr>\n",
       "      <th>10349</th>\n",
       "      <td>48768</td>\n",
       "      <td>32</td>\n",
       "      <td>2</td>\n",
       "      <td>MW</td>\n",
       "      <td>4</td>\n",
       "      <td>48</td>\n",
       "      <td>1</td>\n",
       "      <td>Female</td>\n",
       "      <td>White</td>\n",
       "      <td>29</td>\n",
       "      <td>...</td>\n",
       "      <td>0</td>\n",
       "      <td>0</td>\n",
       "      <td>0</td>\n",
       "      <td>1</td>\n",
       "      <td>0</td>\n",
       "      <td>NaN</td>\n",
       "      <td>20-29</td>\n",
       "      <td>NaN</td>\n",
       "      <td>19.204464</td>\n",
       "      <td>0</td>\n",
       "    </tr>\n",
       "    <tr>\n",
       "      <th>10350</th>\n",
       "      <td>48770</td>\n",
       "      <td>32</td>\n",
       "      <td>2</td>\n",
       "      <td>MW</td>\n",
       "      <td>4</td>\n",
       "      <td>48</td>\n",
       "      <td>1</td>\n",
       "      <td>Male</td>\n",
       "      <td>White</td>\n",
       "      <td>31</td>\n",
       "      <td>...</td>\n",
       "      <td>0</td>\n",
       "      <td>0</td>\n",
       "      <td>0</td>\n",
       "      <td>1</td>\n",
       "      <td>1</td>\n",
       "      <td>NaN</td>\n",
       "      <td>30-39</td>\n",
       "      <td>NaN</td>\n",
       "      <td>19.635565</td>\n",
       "      <td>0</td>\n",
       "    </tr>\n",
       "  </tbody>\n",
       "</table>\n",
       "<p>10351 rows × 58 columns</p>\n",
       "</div>"
      ],
      "text/plain": [
       "       sampl  strata  psu region  smsa  location  houssiz     sex   race  age  \\\n",
       "0       1400       1    1      S     2         1        4    Male  White   54   \n",
       "1       1401       1    1      S     2         1        6  Female  White   41   \n",
       "2       1402       1    1      S     1         1        6  Female  Other   21   \n",
       "3       1404       1    1      S     2         1        9  Female  White   63   \n",
       "4       1405       1    1      S     1         1        3  Female  White   64   \n",
       "...      ...     ...  ...    ...   ...       ...      ...     ...    ...  ...   \n",
       "10346  48760      32    2     MW     4        48        5  Female  White   35   \n",
       "10347  48763      32    2     MW     4        48        2  Female  White   33   \n",
       "10348  48764      32    2     MW     4        48        1  Female  White   60   \n",
       "10349  48768      32    2     MW     4        48        1  Female  White   29   \n",
       "10350  48770      32    2     MW     4        48        1    Male  White   31   \n",
       "\n",
       "       ...  region4  smsa1  smsa2  smsa3  rural   loglead  agegrp  highlead  \\\n",
       "0      ...        0      0      1      0      0       NaN   50-59       NaN   \n",
       "1      ...        0      0      1      0      0  2.564949   40-49   lead<25   \n",
       "2      ...        0      1      0      0      0       NaN   20-29       NaN   \n",
       "3      ...        0      0      1      0      0       NaN   60-69       NaN   \n",
       "4      ...        0      1      0      0      0  2.995732   60-69   lead<25   \n",
       "...    ...      ...    ...    ...    ...    ...       ...     ...       ...   \n",
       "10346  ...        0      0      0      1      1       NaN   30-39       NaN   \n",
       "10347  ...        0      0      0      1      1  1.945910   30-39   lead<25   \n",
       "10348  ...        0      0      0      1      0       NaN   60-69       NaN   \n",
       "10349  ...        0      0      0      1      0       NaN   20-29       NaN   \n",
       "10350  ...        0      0      0      1      1       NaN   30-39       NaN   \n",
       "\n",
       "             bmi  highbp  \n",
       "0      20.495686       0  \n",
       "1      21.022337       0  \n",
       "2      24.973860       0  \n",
       "3      35.728722       1  \n",
       "4      27.923803       0  \n",
       "...          ...     ...  \n",
       "10346  20.355173       0  \n",
       "10347  41.645557       1  \n",
       "10348  35.626114       0  \n",
       "10349  19.204464       0  \n",
       "10350  19.635565       0  \n",
       "\n",
       "[10351 rows x 58 columns]"
      ]
     },
     "execution_count": 4,
     "metadata": {},
     "output_type": "execute_result"
    }
   ],
   "source": [
    "import pandas as pd\n",
    "\n",
    "babies = '/Users/mujiechen/Jupyter-Notebook/STATA/Datasets/babies.dta'\n",
    "babies = pd.read_stata(babies)\n",
    "print(babies.head())\n",
    "\n",
    "import io\n",
    "import requests\n",
    "\n",
    "data = requests.get(\"https://www.stata.com/python/pystata18/misc/nhanes2.csv\").content\n",
    "nhanes2 = pd.read_csv(io.StringIO(data.decode(\"utf-8\")))\n",
    "nhanes2"
   ]
  },
  {
   "cell_type": "markdown",
   "id": "793f8be8-6112-453c-b2d3-2d8803389596",
   "metadata": {},
   "source": [
    "## Display All Data\n",
    "Using \"br\" or \"br VARIABLE\""
   ]
  },
  {
   "cell_type": "code",
   "execution_count": 5,
   "id": "ffd11623-e5fd-4d35-a6eb-9ef4ba88cef0",
   "metadata": {
    "scrolled": true
   },
   "outputs": [
    {
     "name": "stdout",
     "output_type": "stream",
     "text": [
      "\n",
      ". \n",
      ". // Redacted as runtime of \"list _all\" is too long\n",
      ". \n"
     ]
    }
   ],
   "source": [
    "%%stata -d babies\n",
    "\n",
    "// Redacted as runtime of \"list _all\" is too long"
   ]
  },
  {
   "cell_type": "markdown",
   "id": "47add8a8-c418-410c-b562-d42e5c19c541",
   "metadata": {},
   "source": [
    "## One Way Table Showing Frequency of Variable"
   ]
  },
  {
   "cell_type": "code",
   "execution_count": 6,
   "id": "40abbb7d-b4f0-414b-8943-e636b6e2e556",
   "metadata": {},
   "outputs": [
    {
     "name": "stdout",
     "output_type": "stream",
     "text": [
      "\n",
      ". \n",
      ". tab bwt if bwt < 2000\n",
      "\n",
      "        bwt |      Freq.     Percent        Cum.\n",
      "------------+-----------------------------------\n",
      "       1503 |          1       11.11       11.11\n",
      "       1701 |          1       11.11       22.22\n",
      "       1800 |          1       11.11       33.33\n",
      "       1814 |          1       11.11       44.44\n",
      "       1910 |          2       22.22       66.67\n",
      "       1920 |          1       11.11       77.78\n",
      "       1956 |          1       11.11       88.89\n",
      "       1984 |          1       11.11      100.00\n",
      "------------+-----------------------------------\n",
      "      Total |          9      100.00\n",
      "\n",
      ". \n"
     ]
    }
   ],
   "source": [
    "%%stata\n",
    "\n",
    "tab bwt if bwt < 2000"
   ]
  },
  {
   "cell_type": "markdown",
   "id": "9cda1736-9f05-4ad4-aaa3-cc6a8f6fdaa2",
   "metadata": {},
   "source": [
    "## Two Way Table Showing Frequency of Two Variables\n",
    "Summarises the relationship between two categorical variables, where the first argument is shown in the row, and the second argument is shown in the column<br>\n",
    "\", row\" shows within-row relative frequencies in %"
   ]
  },
  {
   "cell_type": "code",
   "execution_count": 7,
   "id": "78aa0fee-e7fb-4186-9b9f-c19683abf015",
   "metadata": {},
   "outputs": [
    {
     "name": "stdout",
     "output_type": "stream",
     "text": [
      "\n",
      ". \n",
      ". tab bwt gest if bwt < 2000, row\n",
      "\n",
      "+----------------+\n",
      "| Key            |\n",
      "|----------------|\n",
      "|   frequency    |\n",
      "| row percentage |\n",
      "+----------------+\n",
      "\n",
      "           |                          gest\n",
      "       bwt |        35         36         37         38         39 |     Total\n",
      "-----------+-------------------------------------------------------+----------\n",
      "      1503 |         1          0          0          0          0 |         1 \n",
      "           |    100.00       0.00       0.00       0.00       0.00 |    100.00 \n",
      "-----------+-------------------------------------------------------+----------\n",
      "      1701 |         0          0          0          1          0 |         1 \n",
      "           |      0.00       0.00       0.00     100.00       0.00 |    100.00 \n",
      "-----------+-------------------------------------------------------+----------\n",
      "      1800 |         0          0          0          0          0 |         1 \n",
      "           |      0.00       0.00       0.00       0.00       0.00 |    100.00 \n",
      "-----------+-------------------------------------------------------+----------\n",
      "      1814 |         0          1          0          0          0 |         1 \n",
      "           |      0.00     100.00       0.00       0.00       0.00 |    100.00 \n",
      "-----------+-------------------------------------------------------+----------\n",
      "      1910 |         1          0          0          0          1 |         2 \n",
      "           |     50.00       0.00       0.00       0.00      50.00 |    100.00 \n",
      "-----------+-------------------------------------------------------+----------\n",
      "      1920 |         0          0          0          0          0 |         1 \n",
      "           |      0.00       0.00       0.00       0.00       0.00 |    100.00 \n",
      "-----------+-------------------------------------------------------+----------\n",
      "      1956 |         0          0          0          1          0 |         1 \n",
      "           |      0.00       0.00       0.00     100.00       0.00 |    100.00 \n",
      "-----------+-------------------------------------------------------+----------\n",
      "      1984 |         0          0          1          0          0 |         1 \n",
      "           |      0.00       0.00     100.00       0.00       0.00 |    100.00 \n",
      "-----------+-------------------------------------------------------+----------\n",
      "     Total |         2          1          1          2          1 |         9 \n",
      "           |     22.22      11.11      11.11      22.22      11.11 |    100.00 \n",
      "\n",
      "\n",
      "           |         gest\n",
      "       bwt |        40         41 |     Total\n",
      "-----------+----------------------+----------\n",
      "      1503 |         0          0 |         1 \n",
      "           |      0.00       0.00 |    100.00 \n",
      "-----------+----------------------+----------\n",
      "      1701 |         0          0 |         1 \n",
      "           |      0.00       0.00 |    100.00 \n",
      "-----------+----------------------+----------\n",
      "      1800 |         1          0 |         1 \n",
      "           |    100.00       0.00 |    100.00 \n",
      "-----------+----------------------+----------\n",
      "      1814 |         0          0 |         1 \n",
      "           |      0.00       0.00 |    100.00 \n",
      "-----------+----------------------+----------\n",
      "      1910 |         0          0 |         2 \n",
      "           |      0.00       0.00 |    100.00 \n",
      "-----------+----------------------+----------\n",
      "      1920 |         0          1 |         1 \n",
      "           |      0.00     100.00 |    100.00 \n",
      "-----------+----------------------+----------\n",
      "      1956 |         0          0 |         1 \n",
      "           |      0.00       0.00 |    100.00 \n",
      "-----------+----------------------+----------\n",
      "      1984 |         0          0 |         1 \n",
      "           |      0.00       0.00 |    100.00 \n",
      "-----------+----------------------+----------\n",
      "     Total |         1          1 |         9 \n",
      "           |     11.11      11.11 |    100.00 \n",
      "\n",
      ". \n"
     ]
    }
   ],
   "source": [
    "%%stata\n",
    "\n",
    "tab bwt gest if bwt < 2000, row"
   ]
  },
  {
   "cell_type": "markdown",
   "id": "96e90f98-f21e-4dd3-98c7-f2e4c1e7494e",
   "metadata": {},
   "source": [
    "## Reveal Structure and Properties of Dataset (a la .schema for SQL)\n",
    "Each variable has:\n",
    "1. Variable name, storage type (int, byte, long, float, double etc.)\n",
    "2. Display format\n",
    "3. Value label (key-value pairs that store numerical values but display text)\n",
    "4. Variable label (a longer description of the variable e.g. specifying units)"
   ]
  },
  {
   "cell_type": "code",
   "execution_count": 8,
   "id": "7425c9e1-fa69-458a-91c3-20ab1c650b15",
   "metadata": {},
   "outputs": [
    {
     "name": "stdout",
     "output_type": "stream",
     "text": [
      "\n",
      "Contains data\n",
      " Observations:           997                  \n",
      "    Variables:             5                  \n",
      "-------------------------------------------------------------------------------\n",
      "Variable      Storage   Display    Value\n",
      "    name         type    format    label      Variable label\n",
      "-------------------------------------------------------------------------------\n",
      "id              int     %8.0g                 \n",
      "bwt             int     %8.0g                 \n",
      "gest            int     %8.0g                 \n",
      "mat_age         int     %8.0g                 \n",
      "cigs            int     %8.0g                 \n",
      "-------------------------------------------------------------------------------\n",
      "Sorted by: \n",
      "     Note: Dataset has changed since last saved.\n"
     ]
    }
   ],
   "source": [
    "%%stata\n",
    "describe"
   ]
  },
  {
   "cell_type": "markdown",
   "id": "81bed455-1a84-403f-8cbc-c0a393fc7882",
   "metadata": {},
   "source": [
    "## Show any Notes attached to the Dataset"
   ]
  },
  {
   "cell_type": "code",
   "execution_count": 9,
   "id": "c3c60348-c8e6-415a-a98a-4fb68b8c5df0",
   "metadata": {},
   "outputs": [],
   "source": [
    "%%stata\n",
    "notes"
   ]
  },
  {
   "cell_type": "markdown",
   "id": "23ce18b9-faa0-42d1-9f88-38668a0bef3a",
   "metadata": {},
   "source": [
    "## Show Variable Name, Label, and some Summary Statistics\n",
    "Shows if all values are unique, contains blanks, are missing any values (\".\" or \".a\" or \"-.z\")<br>\n",
    "If values are unique, the variable can possibly be used as an identifier<br>\n",
    "If the variable is an <i>indicator</i> variable, this function will reveal key-value pairs<br>\n",
    "Indicator variables use less memory and can be worked into statistical models"
   ]
  },
  {
   "cell_type": "code",
   "execution_count": 10,
   "id": "9eb23e90-0d4f-4326-864a-a7104ff0a66f",
   "metadata": {},
   "outputs": [
    {
     "name": "stdout",
     "output_type": "stream",
     "text": [
      "\n",
      "-------------------------------------------------------------------------------\n",
      "bwt                                                                 (unlabeled)\n",
      "-------------------------------------------------------------------------------\n",
      "\n",
      "                  Type: Numeric (int)\n",
      "\n",
      "                 Range: [1503,4875]                   Units: 1\n",
      "         Unique values: 319                       Missing .: 0/997\n",
      "\n",
      "                  Mean: 3305.02\n",
      "             Std. dev.: 505.138\n",
      "\n",
      "           Percentiles:     10%       25%       50%       75%       90%\n",
      "                           2660      3000      3300      3629      3940\n"
     ]
    }
   ],
   "source": [
    "%%stata\n",
    "codebook bwt"
   ]
  },
  {
   "cell_type": "markdown",
   "id": "eb317781-72c7-432c-83bf-52d5a4970dd1",
   "metadata": {},
   "source": [
    "## Creating and Deleting Variables"
   ]
  },
  {
   "cell_type": "code",
   "execution_count": 11,
   "id": "c6ced457-1393-486f-a72d-d8ea7a79b376",
   "metadata": {},
   "outputs": [
    {
     "name": "stdout",
     "output_type": "stream",
     "text": [
      "\n",
      ". \n",
      ". gen bwt_mg = bwt*1000\n",
      "\n",
      ". drop bwt_mg\n",
      "\n",
      ". \n",
      ". gen bwt_kg = bwt/1000\n",
      "\n",
      ". label variable bwt_kg \"birth weight in kilograms\"\n",
      "\n",
      ". drop if bwt_kg < 2\n",
      "(9 observations deleted)\n",
      "\n",
      ". # Can be used to remove outliers in data\n",
      "Unknown #command\n",
      ". \n"
     ]
    }
   ],
   "source": [
    "%%stata\n",
    "\n",
    "gen bwt_mg = bwt*1000\n",
    "drop bwt_mg\n",
    "\n",
    "gen bwt_kg = bwt/1000\n",
    "label variable bwt_kg \"birth weight in kilograms\"\n",
    "drop if bwt_kg < 2\n",
    "# Can be used to remove outliers in data"
   ]
  },
  {
   "cell_type": "markdown",
   "id": "9fb00381-13a0-4c6b-964d-5656bdb95dd5",
   "metadata": {},
   "source": [
    "## Dichotomise (or Stratify) Data"
   ]
  },
  {
   "cell_type": "code",
   "execution_count": 12,
   "id": "cb8dc3e1-5e03-4ba8-911d-a5bc5bc10566",
   "metadata": {},
   "outputs": [
    {
     "name": "stdout",
     "output_type": "stream",
     "text": [
      "\n",
      ". \n",
      ". gen bwt_strat = .  // Create the variable bwt_strat and initialize with missi\n",
      "> ng values\n",
      "(988 missing values generated)\n",
      "\n",
      ". replace bwt_strat = 0 if bwt_kg < 3  // Values in the low group become 0\n",
      "(238 real changes made)\n",
      "\n",
      ". replace bwt_strat = 1 if bwt_kg >= 3 & bwt_kg != .  // Values in the high gro\n",
      "> up become 1\n",
      "(750 real changes made)\n",
      "\n",
      ". \n"
     ]
    }
   ],
   "source": [
    "%%stata\n",
    "\n",
    "gen bwt_strat = .  // Create the variable bwt_strat and initialize with missing values\n",
    "replace bwt_strat = 0 if bwt_kg < 3  // Values in the low group become 0\n",
    "replace bwt_strat = 1 if bwt_kg >= 3 & bwt_kg != .  // Values in the high group become 1"
   ]
  },
  {
   "cell_type": "markdown",
   "id": "6ed4696f-d9b1-4e98-823f-d81eee7e2ddf",
   "metadata": {},
   "source": [
    "## Recode Data into Multiple Groups\n",
    "Specify the categories or bins in brackets"
   ]
  },
  {
   "cell_type": "code",
   "execution_count": 13,
   "id": "44e77913-e8d0-46cc-85d7-a5d9c2545f75",
   "metadata": {},
   "outputs": [
    {
     "name": "stdout",
     "output_type": "stream",
     "text": [
      "\n",
      ". \n",
      ". recode bwt_kg (0=0) (2/2.5=1) (2.5/3=2) (3/3.5=3) (3.5/max=4), gen(bwt_500g_s\n",
      "> plits)\n",
      "(986 differences between bwt_kg and bwt_500g_splits)\n",
      "\n",
      ". \n"
     ]
    }
   ],
   "source": [
    "%%stata\n",
    "\n",
    "recode bwt_kg (0=0) (2/2.5=1) (2.5/3=2) (3/3.5=3) (3.5/max=4), gen(bwt_500g_splits)"
   ]
  },
  {
   "cell_type": "markdown",
   "id": "fc56c2ec-ee9b-407b-8b11-da1e812e3e97",
   "metadata": {},
   "source": [
    "## Logic and Conditionals\n",
    "STATA works with usual logical operators: ==; !=; >; <; >=; <=; & (AND); | (OR); !(NOT)\n",
    "\n",
    "<b>Examples of Built-in Conditionals:</b><br>\n",
    "gen bwt_selected inlist(VARIABLE, \"2323\", \"2738\", \"3242\") <- inlist qualifier<br>\n",
    "count if bwt == 2311<br>\n",
    "br if missing(VARIABLE)<br>\n",
    "list VARIABLE if > n<br>\n",
    "by VARIABLE2, sort: summ VARIABLE1 // where subgroups are separated by VARIABLE1 and summary produced for VARIABLE2\n",
    "\n",
    "To keep track of work, use the log button (lab notebook icon) to begin a log\n"
   ]
  }
 ],
 "metadata": {
  "kernelspec": {
   "display_name": "Python 3 (ipykernel)",
   "language": "python",
   "name": "python3"
  },
  "language_info": {
   "codemirror_mode": {
    "name": "ipython",
    "version": 3
   },
   "file_extension": ".py",
   "mimetype": "text/x-python",
   "name": "python",
   "nbconvert_exporter": "python",
   "pygments_lexer": "ipython3",
   "version": "3.10.6"
  }
 },
 "nbformat": 4,
 "nbformat_minor": 5
}
