{
 "cells": [
  {
   "cell_type": "code",
   "execution_count": 3,
   "id": "ba5989ad-a210-4d5a-97ab-6977b8dfe3d0",
   "metadata": {},
   "outputs": [
    {
     "name": "stdout",
     "output_type": "stream",
     "text": [
      "\n",
      "  ___  ____  ____  ____  ____ ®\n",
      " /__    /   ____/   /   ____/      StataNow 18.5\n",
      "___/   /   /___/   /   /___/       SE—Standard Edition\n",
      "\n",
      " Statistics and Data Science       Copyright 1985-2023 StataCorp LLC\n",
      "                                   StataCorp\n",
      "                                   4905 Lakeway Drive\n",
      "                                   College Station, Texas 77845 USA\n",
      "                                   800-782-8272        https://www.stata.com\n",
      "                                   979-696-4600        service@stata.com\n",
      "\n",
      "Stata license: Unlimited-user network, expiring  9 Sep 2025\n",
      "Serial number: 501809305305\n",
      "  Licensed to: Mujie\n",
      "               \n",
      "\n",
      "Notes:\n",
      "      1. Unicode is supported; see help unicode_advice.\n",
      "      2. Maximum number of variables is set to 5,000 but can be increased;\n",
      "          see help set_maxvar.\n"
     ]
    }
   ],
   "source": [
    "import os\n",
    "os.chdir(\"/Applications/Stata/utilities\")\n",
    "from pystata import config\n",
    "config.init(\"se\")"
   ]
  },
  {
   "cell_type": "markdown",
   "id": "18743d05-89ac-459d-b618-660a18757b2c",
   "metadata": {},
   "source": [
    "## Data Management"
   ]
  },
  {
   "cell_type": "markdown",
   "id": "cb86cec1",
   "metadata": {},
   "source": [
    "If the qq-plot is roughly bell-shaped, then the dataset is normal and parametric tests may be used"
   ]
  },
  {
   "cell_type": "code",
   "execution_count": 7,
   "id": "08b048be",
   "metadata": {},
   "outputs": [
    {
     "name": "stdout",
     "output_type": "stream",
     "text": [
      "   ID  ClinClass0M  MMSE  age_first_seen  GENDER   HCY  Chol  \\\n",
      "0   2            0    29              65       0  14.3   5.1   \n",
      "1  10            1    21              81       0   7.7   4.1   \n",
      "2  14            0    30              65       1   8.8   5.3   \n",
      "3  15            0    28              86       0   6.6   4.8   \n",
      "4  16            0    27              81       1   7.7   7.3   \n",
      "\n",
      "   MedHistHypertension  AX94374957_T  AX150725234_T  ...  AX14083237_A  \\\n",
      "0                    0      2.303407       2.161415  ...      0.000000   \n",
      "1                    0      2.303407       2.161415  ...      2.165174   \n",
      "2                    0     -0.433684      -0.462172  ...     -0.454659   \n",
      "3                    0      0.000000      -0.462172  ...     -0.454659   \n",
      "4                    0      0.000000       0.000000  ...     -0.454659   \n",
      "\n",
      "   AX57849402_G  AX11635492_T  AX164435360_C  AX158719163_T  AX83496240_A  \\\n",
      "0      2.274424     -0.579667        2.24745       2.923519     -0.309601   \n",
      "1      2.274424     -0.579667        2.24745      -0.334018      3.226561   \n",
      "2     -0.439218     -0.579667       -0.44449      -0.334018     -0.309601   \n",
      "3     -0.439218     -0.579667       -0.44449      -0.334018     -0.309601   \n",
      "4     -0.439218      1.341680       -0.44449       2.923519     -0.309601   \n",
      "\n",
      "   AX12559160_T  AX164456071_A  AX94372157_T  AX94353866_T  \n",
      "0      -0.30458       2.526632      2.254391      2.219677  \n",
      "1      -0.30458       0.000000      2.254391      2.219677  \n",
      "2      -0.30458      -0.395365     -0.443123      0.000000  \n",
      "3      -0.30458      -0.395365     -0.443123     -0.450047  \n",
      "4      -0.30458      -0.395365     -0.443123     -0.450047  \n",
      "\n",
      "[5 rows x 31 columns]\n"
     ]
    }
   ],
   "source": [
    "import pandas as pd\n",
    "\n",
    "AIBL = '/Users/mujiechen/Jupyter-Notebook/STATA/Datasets/AIBL_regression.dta'\n",
    "AIBL = pd.read_stata(AIBL)\n",
    "print(data.head())"
   ]
  },
  {
   "cell_type": "code",
   "execution_count": 8,
   "id": "62059270-49cd-4250-af2e-7bac230154da",
   "metadata": {},
   "outputs": [
    {
     "name": "stdout",
     "output_type": "stream",
     "text": [
      "\n",
      ". \n",
      ". regress MMSE ClinClass0M age_first_seen GENDER HCY Chol MedHistHypertension\n",
      "\n",
      "      Source |       SS           df       MS      Number of obs   =       559\n",
      "-------------+----------------------------------   F(6, 552)       =    183.21\n",
      "       Model |  7448.20872         6  1241.36812   Prob > F        =    0.0000\n",
      "    Residual |  3740.13833       552  6.77561292   R-squared       =    0.6657\n",
      "-------------+----------------------------------   Adj R-squared   =    0.6621\n",
      "       Total |   11188.347       558  20.0508012   Root MSE        =     2.603\n",
      "\n",
      "------------------------------------------------------------------------------\n",
      "        MMSE | Coefficient  Std. err.      t    P>|t|     [95% conf. interval]\n",
      "-------------+----------------------------------------------------------------\n",
      " ClinClass0M |  -8.373387   .3002543   -27.89   0.000    -8.963168   -7.783606\n",
      "age_first_~n |   -.071466   .0166192    -4.30   0.000    -.1041106   -.0388214\n",
      "      GENDER |  -.3738349   .2324368    -1.61   0.108    -.8304037     .082734\n",
      "         HCY |  -.0295021   .0321091    -0.92   0.359    -.0925731    .0335689\n",
      "        Chol |  -.0645387   .1015538    -0.64   0.525    -.2640179    .1349404\n",
      "MedHistHyp~n |   .1006414   .2321288     0.43   0.665    -.3553224    .5566052\n",
      "       _cons |   34.34733   1.351032    25.42   0.000     31.69354    37.00113\n",
      "------------------------------------------------------------------------------\n",
      "\n",
      ". \n"
     ]
    }
   ],
   "source": [
    "%%stata -d AIBL -eret myeret\n",
    "\n",
    "regress MMSE ClinClass0M age_first_seen GENDER HCY Chol MedHistHypertension"
   ]
  },
  {
   "cell_type": "code",
   "execution_count": 9,
   "id": "b4336bba-7800-419e-b4df-9a8876f87d22",
   "metadata": {},
   "outputs": [
    {
     "name": "stdout",
     "output_type": "stream",
     "text": [
      "\n",
      ". \n",
      ". power twomeans 5.0, diff(1.8) sd(3) power(0.8)\n",
      "\n",
      "Performing iteration ...\n",
      "\n",
      "Estimated sample sizes for a two-sample means test\n",
      "t test assuming sd1 = sd2 = sd\n",
      "H0: m2 = m1  versus  Ha: m2 != m1\n",
      "\n",
      "Study parameters:\n",
      "\n",
      "        alpha =    0.0500\n",
      "        power =    0.8000\n",
      "        delta =    1.8000\n",
      "           m1 =    5.0000\n",
      "           m2 =    6.8000\n",
      "         diff =    1.8000\n",
      "           sd =    3.0000\n",
      "\n",
      "Estimated sample sizes:\n",
      "\n",
      "            N =        90\n",
      "  N per group =        45\n",
      "\n",
      ". \n"
     ]
    }
   ],
   "source": [
    "%%stata\n",
    "\n",
    "power twomeans 5.0, diff(1.8) sd(3) power(0.8)"
   ]
  },
  {
   "cell_type": "code",
   "execution_count": null,
   "id": "ddd0f73c-74fa-484b-9448-ee47d284e381",
   "metadata": {},
   "outputs": [],
   "source": [
    "est store m1\n",
    "est store m2\n",
    "lrtest m1 m2\n",
    "\n",
    "H0 = m1\n",
    "H1 = m2\n",
    "p > 0.05, reject H0 and choose m2, the additional variables included in model 2 improve the fit of the model, therefore m2 is preferred over m1"
   ]
  }
 ],
 "metadata": {
  "kernelspec": {
   "display_name": "Python 3 (ipykernel)",
   "language": "python",
   "name": "python3"
  },
  "language_info": {
   "codemirror_mode": {
    "name": "ipython",
    "version": 3
   },
   "file_extension": ".py",
   "mimetype": "text/x-python",
   "name": "python",
   "nbconvert_exporter": "python",
   "pygments_lexer": "ipython3",
   "version": "3.10.6"
  }
 },
 "nbformat": 4,
 "nbformat_minor": 5
}
