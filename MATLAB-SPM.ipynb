{
 "cells": [
  {
   "cell_type": "markdown",
   "id": "3bee592e-ce4e-416a-beae-f63860861dc4",
   "metadata": {},
   "source": [
    "# Statistical Parametric Mapping\n",
    "\n",
    "MATLAB-SPM for Neuroimaging Analysis Modules\n",
    "- T-tests, ANOVAs, Regression\n",
    "- Bayes for Beginners & Model Selection\n",
    "- Preprocessing: Realigning and Unwarping\n",
    "- Preprocessing: Coregistration and Spatial Normalisation\n",
    "- Basis of the Bold Signal\n",
    "- 1st Level Analysis: Design Matrix, Contrasts, GLM\n",
    "- 1st Level Analysis: Basis Functions, Parametric Modulation and Correlated Regressors\n",
    "- 2nd Level Analysis: Between-Subject Analysis\n",
    "- Random Field Theory\n",
    "- Study Design and Efficiency\n",
    "- Basis of the M/EEG Signal\n",
    "- M/EEG Preprocessing and Experimental Design\n",
    "- M/EEG Statistical Analysis and Source Localisation\n",
    "- Voxel-Based Morphometry\n",
    "- Diffusion Tensor Imaging\n",
    "- Introduction to Connectivity - PPI, Resting State"
   ]
  }
 ],
 "metadata": {
  "kernelspec": {
   "display_name": "Python 3 (ipykernel)",
   "language": "python",
   "name": "python3"
  },
  "language_info": {
   "codemirror_mode": {
    "name": "ipython",
    "version": 3
   },
   "file_extension": ".py",
   "mimetype": "text/x-python",
   "name": "python",
   "nbconvert_exporter": "python",
   "pygments_lexer": "ipython3",
   "version": "3.10.6"
  }
 },
 "nbformat": 4,
 "nbformat_minor": 5
}
